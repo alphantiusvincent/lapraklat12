{
  "nbformat": 4,
  "nbformat_minor": 0,
  "metadata": {
    "colab": {
      "provenance": []
    },
    "kernelspec": {
      "name": "python3",
      "display_name": "Python 3"
    },
    "language_info": {
      "name": "python"
    }
  },
  "cells": [
    {
      "cell_type": "code",
      "execution_count": null,
      "metadata": {
        "id": "aXtjFRuMg_cD"
      },
      "outputs": [],
      "source": [
        "def kategori():\n",
        "    aplikasi_dict = {}\n",
        "\n",
        "    try:\n",
        "        while True:\n",
        "            inputan = input(\"Masukkan nama aplikasi (ketik 'stop' untuk berhenti): \")\n",
        "            if inputan.lower() == 'stop':\n",
        "                break\n",
        "\n",
        "            while True:\n",
        "                inputan2 = input(\"Masukkan kategori untuk aplikasi ini (ketik 'stop' untuk berhenti): \")\n",
        "                if inputan2.lower() == 'stop':\n",
        "                    break\n",
        "\n",
        "                if inputan not in aplikasi_dict:\n",
        "                    aplikasi_dict[inputan] = []\n",
        "\n",
        "                aplikasi_dict[inputan].append(inputan2)\n",
        "\n",
        "        solo = []\n",
        "        duo = []\n",
        "        triplekill = []\n",
        "\n",
        "        for aplikasi, categories in aplikasi_dict.items():\n",
        "            if len(categories) == 1:\n",
        "                solo.append(aplikasi)\n",
        "            elif len(categories) == 2:\n",
        "                duo.append(aplikasi)\n",
        "            elif len(categories) > 2:\n",
        "                triplekill.append(aplikasi)\n",
        "\n",
        "        print(\"\\nAplikasi yang hanya muncul di satu kategori:\")\n",
        "        for aplikasi in solo:\n",
        "            print(aplikasi)\n",
        "\n",
        "        print(\"\\nAplikasi yang muncul di dua kategori:\")\n",
        "        for aplikasi in duo:\n",
        "            print(aplikasi)\n",
        "\n",
        "        print(\"\\nAplikasi yang muncul di lebih dari dua kategori:\")\n",
        "        for aplikasi in triplekill:\n",
        "            print(aplikasi)\n",
        "\n",
        "    except:\n",
        "        print(\"Terjadi kesalahan:\")\n",
        "\n",
        "# Jalankan fungsi\n",
        "kategori()\n"
      ]
    },
    {
      "cell_type": "code",
      "source": [
        "a = (1, 2, 2, 3, 4, 4, 5)\n",
        "a=set(a)\n",
        "b =list(a)\n",
        "print(\"List sebelum konversi:\", a)\n",
        "print(\"list setelah konversi jadi set:\", b)\n",
        "\n",
        "\n",
        "print(\"\\nSet sebelum konversi:\", b )\n",
        "print(\"set setelah konversi jadi list:\", a)\n",
        "\n",
        "\n",
        "tuples = (1, 2, 2, 3, 4, 4, 5)\n",
        "b = set(tuples)\n",
        "print(\"\\nTuple sebelum konversi:\", tuples)\n",
        "print(\"Set setelah konversi jadi tuple:\", b)\n",
        "\n",
        "# Set menjadi Tuple\n",
        "tuples = tuple(b)\n",
        "print(\"\\nSet sebelum konversi:\", b)\n",
        "print(\"set setelah konversi ajdi tuple:\", tuples)"
      ],
      "metadata": {
        "id": "GWbcGTZNhC7f"
      },
      "execution_count": null,
      "outputs": []
    },
    {
      "cell_type": "code",
      "source": [
        "def baca():\n",
        "    # Minta pengguna memasukkan nama file\n",
        "    inputan1 = input(\"Masukkan nama file pertama: \")\n",
        "    inputan2   = input(\"Masukkan nama file kedua: \")\n",
        "    words = set()\n",
        "    try:\n",
        "        with open(inputan1, 'r') as file1, open(inputan2, 'r') as file2:\n",
        "            for line in file1:\n",
        "                words.update(words.lower() for words in line.split())\n",
        "            for line in file2:\n",
        "                words.update(words.lower() for words in line.split())\n",
        "    except :\n",
        "        print(\"File tidak ditemukan\")\n",
        "        return\n",
        "    for word in sorted(words):\n",
        "        print(words)\n",
        "baca()"
      ],
      "metadata": {
        "id": "9IhelBN0hDAF"
      },
      "execution_count": null,
      "outputs": []
    }
  ]
}